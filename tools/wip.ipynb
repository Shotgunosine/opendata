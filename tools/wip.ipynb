{
 "cells": [
  {
   "cell_type": "markdown",
   "id": "397164eb-9640-428a-bdb4-b8b67f7e4573",
   "metadata": {},
   "source": [
    "## Section 1: Load OpenData file"
   ]
  },
  {
   "cell_type": "code",
   "execution_count": null,
   "id": "aaf49f97-4b98-4721-93e3-0931bafaa045",
   "metadata": {},
   "outputs": [],
   "source": [
    "from pandas import read_csv\n",
    "\n",
    "opendata = read_csv('opendata.tsv', sep='\\t')\n",
    "opendata['doi'] = [url.replace('https://doi.org/','') for url in opendata.paper_url]\n",
    "\n",
    "for doi in opendata.doi:\n",
    "    print(doi)"
   ]
  },
  {
   "cell_type": "code",
   "execution_count": null,
   "id": "99eb6900-8b93-41b0-907e-731c4fb1ac68",
   "metadata": {},
   "outputs": [],
   "source": [
    "opendata.shape"
   ]
  },
  {
   "cell_type": "markdown",
   "id": "e497b639-0141-49fb-a9ab-b1c063312481",
   "metadata": {},
   "source": [
    "## Section 2: RIS file"
   ]
  },
  {
   "cell_type": "code",
   "execution_count": null,
   "id": "989ae6e9-1dd7-4a27-b375-5b1e8e759159",
   "metadata": {},
   "outputs": [],
   "source": [
    "import rispy\n",
    "from pathlib import Path\n",
    "from pandas import DataFrame\n",
    "p = Path('references.ris')\n",
    "ris = DataFrame(rispy.load(p, encoding='utf-8'))\n",
    "ris = ris[['authors','title','secondary_title','year','date','abstract','doi','keywords']]\n",
    "ris['authors'] = [';'.join(a) for a in ris.authors]\n",
    "if isinstance(ris['keywords'], list): ris['keywords'] = [';'.join(k) for k in ris.keywords]\n",
    "else: ris['keywords'] = ''\n",
    "ris = ris.drop_duplicates()\n",
    "\n",
    "ris = ris.merge(opendata, on='doi', how='inner')"
   ]
  },
  {
   "cell_type": "code",
   "execution_count": null,
   "id": "a897bff1-4083-4eb9-b1ba-91e53d65eedd",
   "metadata": {},
   "outputs": [],
   "source": [
    "ris.shape"
   ]
  },
  {
   "cell_type": "code",
   "execution_count": null,
   "id": "f35c751e-3be3-4d1c-940b-7c36fd457a4e",
   "metadata": {},
   "outputs": [],
   "source": [
    "opendata[~opendata.doi.isin(ris.doi)]"
   ]
  },
  {
   "cell_type": "markdown",
   "id": "557b7701-46f7-42f5-8892-e16f83a95857",
   "metadata": {},
   "source": [
    "## Section 3: Write files"
   ]
  },
  {
   "cell_type": "code",
   "execution_count": null,
   "id": "e852e33c-9366-4ce7-8c21-269b771db35f",
   "metadata": {},
   "outputs": [],
   "source": [
    "import os, string\n",
    "import numpy as np\n",
    "from os.path import dirname\n",
    "from unidecode import unidecode\n",
    "# ROOT_DIR = dirname(dirname(os.path.realpath(__file__)))\n",
    "ROOT_DIR = '..'\n",
    "POST_DIR = os.path.join(ROOT_DIR, 'source', '_posts')\n",
    "\n",
    "## Define current files.\n",
    "posts = sorted([f for f in os.listdir(POST_DIR) if f.endswith('.md')])\n",
    "\n",
    "for _, row in ris.iterrows():\n",
    "    \n",
    "    ## Define post name.\n",
    "    first_author = unidecode(row.authors.split(',')[0].replace(' ','-'))\n",
    "    year = row.year\n",
    "    fname = first_author.lower() + year\n",
    "    \n",
    "    ## Check if already file.\n",
    "    if fname + '.md' in posts:\n",
    "        i = 0\n",
    "        while True:\n",
    "            if fname + string.ascii_lowercase[i] + '.md' in posts:\n",
    "                i += 1\n",
    "            else:\n",
    "                fname += string.ascii_lowercase[i] + '.md'\n",
    "                break\n",
    "    else:\n",
    "        fname += '.md'\n",
    "    \n",
    "    ## Define post title.\n",
    "    authors = row.authors.split(';')\n",
    "    if len(authors) == 1: \n",
    "        title = f'{first_author} ({year})'\n",
    "    elif len(authors) == 2: \n",
    "        second_author = authors[1].split(',')[0].replace(' ','-')\n",
    "        title = f'{first_author} & {second_author} ({year})'\n",
    "    else:\n",
    "        title = f'{first_author} et al. ({year})'\n",
    "    \n",
    "    ## Define date.\n",
    "    date = row.date.split('/')\n",
    "    if len(date) == 2: date.append('1')\n",
    "    date = '/'.join(['%0.2d' %int(t) for t in date])\n",
    "    \n",
    "    ## Define keywords.\n",
    "    keywords = [k.lower() for k in row.keywords.split(';')]\n",
    "    \n",
    "    ## Write file.\n",
    "    with open(os.path.join(POST_DIR, fname), 'w') as f:\n",
    "        f.write('---\\n')\n",
    "        f.write(f'title: {title}\\n')\n",
    "        f.write(f\"subtitle: '{row.title}'\\n\")\n",
    "        f.write(f\"date: {date}\\n\")\n",
    "        f.write('authors:\\n')\n",
    "        for author in authors: f.write(f'- {author}\\n')\n",
    "        f.write(f'journal: {row.secondary_title}\\n')\n",
    "        f.write(f'paper_url: {row.paper_url}\\n')\n",
    "        f.write(f'data_url: {row.data_url}\\n')\n",
    "        if keywords:\n",
    "            f.write('tags:\\n')\n",
    "            for keyword in keywords: f.write(f'- {keyword}\\n') \n",
    "        # f.write('sample_size:\\n')\n",
    "        f.write('---\\n')\n",
    "        f.write(f'\\n{row.abstract}\\n')"
   ]
  },
  {
   "cell_type": "code",
   "execution_count": null,
   "id": "9a1d503b-925b-4df7-91e6-e78b623f4f5f",
   "metadata": {},
   "outputs": [],
   "source": [
    "row"
   ]
  },
  {
   "cell_type": "code",
   "execution_count": null,
   "id": "5bfaa4ff-ba96-4d22-96f3-652681b8ac01",
   "metadata": {},
   "outputs": [],
   "source": []
  }
 ],
 "metadata": {
  "kernelspec": {
   "display_name": "Python 3",
   "language": "python",
   "name": "python3"
  },
  "language_info": {
   "codemirror_mode": {
    "name": "ipython",
    "version": 3
   },
   "file_extension": ".py",
   "mimetype": "text/x-python",
   "name": "python",
   "nbconvert_exporter": "python",
   "pygments_lexer": "ipython3",
   "version": "3.9.12"
  }
 },
 "nbformat": 4,
 "nbformat_minor": 5
}
